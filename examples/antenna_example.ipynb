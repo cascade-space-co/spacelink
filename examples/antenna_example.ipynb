{
 "cells": [
  {
   "cell_type": "markdown",
   "metadata": {},
   "source": [
    "# PyRadio Antenna Module Examples\n",
    "\n",
    "This notebook demonstrates how to use the antenna module in PyRadio to model different types of antennas and calculate properties like gain and polarization loss."
   ]
  },
  {
   "cell_type": "code",
   "execution_count": 1,
   "metadata": {},
   "outputs": [],
   "source": [
    "# Import the antenna module and units\n",
    "from spacelink.antenna import Antenna, FixedGain, Dish, polarization_loss\n",
    "from spacelink.units import Q_, GHz, m, db, km\n",
    "from spacelink.path import free_space_path_loss"
   ]
  },
  {
   "cell_type": "code",
   "execution_count": 2,
   "metadata": {},
   "outputs": [
    {
     "name": "stdout",
     "output_type": "stream",
     "text": [
      "-221.2901007304389 decibel\n"
     ]
    }
   ],
   "source": [
    "print(free_space_path_loss(384400 * km, 7.2 * GHz).to('dB'))"
   ]
  },
  {
   "cell_type": "markdown",
   "metadata": {},
   "source": [
    "## Creating Different Types of Antennas\n",
    "\n",
    "PyRadio supports different antenna types including:\n",
    "- `FixedGain`: Simple antenna with constant gain\n",
    "- `Dish`: Parabolic dish antenna with gain based on diameter, efficiency, and frequency"
   ]
  },
  {
   "cell_type": "code",
   "execution_count": 3,
   "metadata": {},
   "outputs": [],
   "source": [
    "# Create a fixed gain antenna (like a patch or dipole)\n",
    "# This has a gain of 2.15 dB and a circular polarization\n",
    "patch_antenna = FixedGain(2.15, axial_ratio=0.0)\n",
    "\n",
    "# Create a dish antenna with 3.7m diameter and 65% efficiency\n",
    "# This has a slightly elliptical polarization (axial ratio = 2.0 dB)\n",
    "dish_antenna = Dish(Q_(3.7, 'm'), efficiency=0.65, axial_ratio=2.0)\n"
   ]
  },
  {
   "cell_type": "markdown",
   "metadata": {},
   "source": [
    "## Calculating Antenna Gain\n",
    "\n",
    "The gain of a `FixedGain` antenna is constant regardless of frequency, while the gain of a `Dish` antenna depends on frequency."
   ]
  },
  {
   "cell_type": "code",
   "execution_count": 4,
   "metadata": {},
   "outputs": [
    {
     "name": "stdout",
     "output_type": "stream",
     "text": [
      "Fixed gain antenna at any frequency: 2.15 dB\n",
      "Dish antenna at S-band (2.2 gigahertz): 36.75 dB\n",
      "Dish antenna at X-band (8.4 gigahertz): 48.39 dB\n",
      "Dish antenna at Ka-band (32.0 gigahertz): 60.00 dB\n"
     ]
    }
   ],
   "source": [
    "# Define frequencies for testing\n",
    "s_band = Q_(2.2, 'GHz')\n",
    "x_band = Q_(8.4, 'GHz')\n",
    "ka_band = Q_(32.0, 'GHz')\n",
    "\n",
    "# Calculate and display the gain of the fixed gain antenna\n",
    "print(f\"Fixed gain antenna at any frequency: {patch_antenna.gain(s_band):.2f} dB\")\n",
    "\n",
    "# Calculate and display the gain of the dish antenna at different frequencies\n",
    "print(f\"Dish antenna at S-band ({s_band}): {dish_antenna.gain(s_band):.2f} dB\")\n",
    "print(f\"Dish antenna at X-band ({x_band}): {dish_antenna.gain(x_band):.2f} dB\")\n",
    "print(f\"Dish antenna at Ka-band ({ka_band}): {dish_antenna.gain(ka_band):.2f} dB\")"
   ]
  },
  {
   "cell_type": "markdown",
   "metadata": {},
   "source": [
    "## Polarization Loss\n",
    "\n",
    "Polarization loss occurs when the polarization of the transmitting and receiving antennas don't match perfectly. The `polarization_loss` function calculates this loss based on the axial ratios of both antennas."
   ]
  },
  {
   "cell_type": "code",
   "execution_count": 6,
   "metadata": {},
   "outputs": [
    {
     "name": "stdout",
     "output_type": "stream",
     "text": [
      "Polarization loss between circular and elliptical: -0.11 dB\n"
     ]
    }
   ],
   "source": [
    "# Calculate polarization loss between different antenna pairs\n",
    "loss1 = polarization_loss(patch_antenna.axial_ratio, dish_antenna.axial_ratio)\n",
    "\n",
    "print(f\"Polarization loss between circular and elliptical: {loss1:.2f} dB\")"
   ]
  },
  {
   "cell_type": "markdown",
   "metadata": {},
   "source": [
    "## Table of Polarization Loss Values\n",
    "\n",
    "Below is a table of polarization loss values (in dB) for different combinations of axial ratios."
   ]
  },
  {
   "cell_type": "code",
   "execution_count": 7,
   "metadata": {},
   "outputs": [
    {
     "data": {
      "text/html": [
       "<div>\n",
       "<style scoped>\n",
       "    .dataframe tbody tr th:only-of-type {\n",
       "        vertical-align: middle;\n",
       "    }\n",
       "\n",
       "    .dataframe tbody tr th {\n",
       "        vertical-align: top;\n",
       "    }\n",
       "\n",
       "    .dataframe thead th {\n",
       "        text-align: right;\n",
       "    }\n",
       "</style>\n",
       "<table border=\"1\" class=\"dataframe\">\n",
       "  <thead>\n",
       "    <tr style=\"text-align: right;\">\n",
       "      <th>Rx AR (dB)</th>\n",
       "      <th>0.5</th>\n",
       "      <th>1.0</th>\n",
       "      <th>2.0</th>\n",
       "      <th>3.0</th>\n",
       "      <th>4.0</th>\n",
       "    </tr>\n",
       "    <tr>\n",
       "      <th>Tx AR (dB)</th>\n",
       "      <th></th>\n",
       "      <th></th>\n",
       "      <th></th>\n",
       "      <th></th>\n",
       "      <th></th>\n",
       "    </tr>\n",
       "  </thead>\n",
       "  <tbody>\n",
       "    <tr>\n",
       "      <th>0.5</th>\n",
       "      <td>-0.014383</td>\n",
       "      <td>-0.035911</td>\n",
       "      <td>-0.121318</td>\n",
       "      <td>-0.261240</td>\n",
       "      <td>-0.452296</td>\n",
       "    </tr>\n",
       "    <tr>\n",
       "      <th>1.0</th>\n",
       "      <td>-0.035911</td>\n",
       "      <td>-0.057438</td>\n",
       "      <td>-0.142845</td>\n",
       "      <td>-0.282768</td>\n",
       "      <td>-0.473824</td>\n",
       "    </tr>\n",
       "    <tr>\n",
       "      <th>2.0</th>\n",
       "      <td>-0.121318</td>\n",
       "      <td>-0.142845</td>\n",
       "      <td>-0.228252</td>\n",
       "      <td>-0.368175</td>\n",
       "      <td>-0.559231</td>\n",
       "    </tr>\n",
       "    <tr>\n",
       "      <th>3.0</th>\n",
       "      <td>-0.261240</td>\n",
       "      <td>-0.282768</td>\n",
       "      <td>-0.368175</td>\n",
       "      <td>-0.508097</td>\n",
       "      <td>-0.699153</td>\n",
       "    </tr>\n",
       "    <tr>\n",
       "      <th>4.0</th>\n",
       "      <td>-0.452296</td>\n",
       "      <td>-0.473824</td>\n",
       "      <td>-0.559231</td>\n",
       "      <td>-0.699153</td>\n",
       "      <td>-0.890209</td>\n",
       "    </tr>\n",
       "  </tbody>\n",
       "</table>\n",
       "</div>"
      ],
      "text/plain": [
       "Rx AR (dB)       0.5       1.0       2.0       3.0       4.0\n",
       "Tx AR (dB)                                                  \n",
       "0.5        -0.014383 -0.035911 -0.121318 -0.261240 -0.452296\n",
       "1.0        -0.035911 -0.057438 -0.142845 -0.282768 -0.473824\n",
       "2.0        -0.121318 -0.142845 -0.228252 -0.368175 -0.559231\n",
       "3.0        -0.261240 -0.282768 -0.368175 -0.508097 -0.699153\n",
       "4.0        -0.452296 -0.473824 -0.559231 -0.699153 -0.890209"
      ]
     },
     "execution_count": 7,
     "metadata": {},
     "output_type": "execute_result"
    }
   ],
   "source": [
    "import pandas as pd\n",
    "import numpy as np\n",
    "\n",
    "# Define axial ratio values\n",
    "ar_values = [0.5, 1.0, 2.0, 3.0, 4.0]\n",
    "\n",
    "# Create a matrix of polarization loss values\n",
    "loss_matrix = np.zeros((len(ar_values), len(ar_values)))\n",
    "for i, tx_ar in enumerate(ar_values):\n",
    "    for j, rx_ar in enumerate(ar_values):\n",
    "        loss_matrix[i, j] = polarization_loss(tx_ar, rx_ar)\n",
    "\n",
    "# Create and display the table\n",
    "ar_table = pd.DataFrame(loss_matrix, index=ar_values, columns=ar_values)\n",
    "ar_table.index.name = 'Tx AR (dB)'\n",
    "ar_table.columns.name = 'Rx AR (dB)'\n",
    "ar_table"
   ]
  },
  {
   "cell_type": "markdown",
   "metadata": {},
   "source": [
    "## Creating a Custom Antenna Implementation\n",
    "\n",
    "You can create your own antenna type by subclassing the `Antenna` abstract base class and implementing the required `gain` method."
   ]
  },
  {
   "cell_type": "code",
   "execution_count": 8,
   "metadata": {},
   "outputs": [
    {
     "name": "stdout",
     "output_type": "stream",
     "text": [
      "Yagi gain at 400 megahertz: 10.91 dB\n",
      "Yagi gain at 435 megahertz: 13.00 dB\n",
      "Yagi gain at 470 megahertz: 10.91 dB\n"
     ]
    }
   ],
   "source": [
    "# Example of creating a custom antenna implementation\n",
    "class YagiAntenna(Antenna):\n",
    "    \"\"\"\n",
    "    A simple model of a Yagi-Uda antenna with gain that varies by frequency.\n",
    "    \"\"\"\n",
    "    def __init__(self, elements: int, center_freq: 'Quantity', axial_ratio: float = 40.0):\n",
    "        super().__init__(axial_ratio)  # Yagis are typically linearly polarized\n",
    "        self.elements = elements\n",
    "        self.center_freq = center_freq\n",
    "    \n",
    "    def gain(self, frequency: 'Quantity') -> float:\n",
    "        \"\"\"\n",
    "        Calculate the gain based on elements and frequency relative to design frequency.\n",
    "        This is a simplified model.\n",
    "        \"\"\"\n",
    "        # Base gain based on number of elements (a simple approximation)\n",
    "        base_gain = 3.0 + (self.elements - 3) * 2.0\n",
    "        \n",
    "        # Frequency roll-off (gain drops as we move away from center frequency)\n",
    "        freq_ratio = (frequency / self.center_freq).to_base_units().magnitude\n",
    "        freq_factor = 1 - min(0.5, abs(freq_ratio - 1) * 2.0)\n",
    "        \n",
    "        return base_gain * freq_factor\n",
    "\n",
    "# Create and test our custom antenna\n",
    "yagi = YagiAntenna(elements=8, center_freq=Q_(435, 'MHz'))\n",
    "test_freqs = [Q_(400, 'MHz'), Q_(435, 'MHz'), Q_(470, 'MHz')]\n",
    "\n",
    "for freq in test_freqs:\n",
    "    print(f\"Yagi gain at {freq}: {yagi.gain(freq):.2f} dB\")"
   ]
  },
  {
   "cell_type": "code",
   "execution_count": null,
   "metadata": {},
   "outputs": [],
   "source": []
  }
 ],
 "metadata": {
  "kernelspec": {
   "display_name": "Python 3 (ipykernel)",
   "language": "python",
   "name": "python3"
  },
  "language_info": {
   "codemirror_mode": {
    "name": "ipython",
    "version": 3
   },
   "file_extension": ".py",
   "mimetype": "text/x-python",
   "name": "python",
   "nbconvert_exporter": "python",
   "pygments_lexer": "ipython3",
   "version": "3.13.2"
  }
 },
 "nbformat": 4,
 "nbformat_minor": 4
}
