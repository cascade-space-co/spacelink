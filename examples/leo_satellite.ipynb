{
 "cells": [
  {
   "cell_type": "markdown",
   "metadata": {},
   "source": [
    "# LEO Satellite Link Budget Example\n",
    "\n",
    "This notebook demonstrates how to create a complete link budget analysis for a Low Earth Orbit (LEO) satellite communication system using the PyRadio library. We'll analyze both:\n",
    "\n",
    "1. **Forward Link (Uplink)**: Ground station to satellite at 2.075 GHz\n",
    "2. **Return Link (Downlink)**: Satellite to ground station at 2.25 GHz\n",
    "\n",
    "The parameters used in this example are based on typical values for small satellite communications."
   ]
  },
  {
   "cell_type": "code",
   "execution_count": 1,
   "metadata": {},
   "outputs": [],
   "source": [
    "import numpy as np\n",
    "import matplotlib.pyplot as plt\n",
    "from scipy import special\n",
    "\n",
    "# Import PyRadio modules\n",
    "from spacelink.antenna import Dish, FixedGain\n",
    "from spacelink.mode import Mode\n",
    "from spacelink.link import Link\n",
    "from spacelink.cascade import Cascade, Stage\n",
    "from spacelink.units import Q_, Hz, K, m, km, GHz, MHz, kHz, dB, dBW, dBm, dimensionless"
   ]
  },
  {
   "cell_type": "markdown",
   "metadata": {},
   "source": [
    "# Spacecraft Setup"
   ]
  },
  {
   "cell_type": "code",
   "execution_count": 2,
   "metadata": {},
   "outputs": [],
   "source": [
    "s0 = Stage(label=\"input cable\", loss=Q_(0.5, dB), noise_temp=Q_(200, K))\n",
    "s1 = Stage(label=\"LNA\", gain=Q_(20, dB), noise_figure=Q_(0.5, dB))\n",
    "s2 = Stage(label=\"cable 2\", loss=Q_(0.5, dB), noise_temp=Q_(200, K))\n",
    "\n",
    "receiver_front_end = Cascade([s0, s1, s2])"
   ]
  },
  {
   "cell_type": "markdown",
   "metadata": {},
   "source": [
    "## Define Common Parameters\n",
    "\n",
    "First, let's define some common parameters that will be used for both uplink and downlink calculations."
   ]
  },
  {
   "cell_type": "code",
   "execution_count": 3,
   "metadata": {},
   "outputs": [],
   "source": [
    "# Common parameters\n",
    "distance = Q_(2000, 'km')  # Typical LEO satellite distance\n",
    "\n",
    "# Create a function to return distance (allows for more complex models later)\n",
    "def distance_function():\n",
    "    return distance\n",
    "\n",
    "gs_antenna = Dish(Q_(3.7, 'm'), 0.65, axial_ratio=3.0)\n",
    "\n",
    "\n",
    "# Required Eb/N0 for reliable communications\n",
    "required_ebno = 9.6  # dB (typical for BPSK with BER 10^-6)"
   ]
  },
  {
   "cell_type": "markdown",
   "metadata": {},
   "source": [
    "## Define Forward Link (Uplink) Parameters\n",
    "\n",
    "Now let's define the parameters specific to the uplink from the ground station to the satellite."
   ]
  },
  {
   "cell_type": "code",
   "execution_count": 4,
   "metadata": {},
   "outputs": [],
   "source": [
    "# uplink mode\n",
    "\n",
    "uplink_mode = Mode(\n",
    "    name=\"BPSK\",\n",
    "    coding_scheme=\"uncoded\",\n",
    "    modulation=\"BPSK\",\n",
    "    bits_per_symbol=Q_(1, dimensionless),\n",
    "    code_rate=1.0,\n",
    "    spectral_efficiency=0.5,\n",
    "    required_ebno=9.6,\n",
    "    implementation_loss=0.5,\n",
    ")\n",
    "# Create the uplink object\n",
    "uplink = Link(\n",
    "    frequency=Q_(2.075, 'GHz'),\n",
    "    symbol_rate=Q_(2, kHz),\n",
    "    tx_antenna=gs_antenna,\n",
    "    rx_antenna=FixedGain(-20.0, axial_ratio=3.0),\n",
    "    tx_power=Q_(100.0, 'W'),\n",
    "    tx_front_end=Cascade(),\n",
    "    rx_front_end=receiver_front_end,\n",
    "    rx_antenna_noise_temp=Q_(200.0, 'K'),\n",
    "    distance_fn=distance_function,\n",
    "    mode = uplink_mode\n",
    ")"
   ]
  },
  {
   "cell_type": "markdown",
   "metadata": {},
   "source": [
    "## Analyze Forward Link (Uplink) Budget"
   ]
  },
  {
   "cell_type": "code",
   "execution_count": 5,
   "metadata": {},
   "outputs": [
    {
     "name": "stdout",
     "output_type": "stream",
     "text": [
      "FORWARD LINK (UPLINK) BUDGET:\n",
      "Link Budget:\n",
      "  EIRP: 56.2 dBW\n",
      "  Path Loss: 164.8 dB\n",
      "  Polarization Loss: 0.5 dB\n",
      "  Received Power: -129.1 dBW\n",
      "  System Noise Temperature: 441.9 K\n",
      "  Noise Power: -166.1 dBW\n",
      "  C/N: 37.0 dB\n",
      "  Margin: 26.9 dB\n",
      "\n",
      "Link Details:\n",
      "Frequency: 2075.00 megahertz\n",
      "Distance: 2000.00 kilometer\n",
      "Bandwidth: 4.00 kilohertz\n",
      "\n",
      "Ground Station TX:\n",
      "Transmit Power: 20.00 decibelwatt dBW\n",
      "Dish Diameter: 3.70 meter\n",
      "Antenna Gain: 36.24 dB\n",
      "\n",
      "Satellite RX:\n",
      "Antenna Gain: -20.00 dB\n",
      "System Noise Temperature: 441.95 kelvin\n",
      "\n",
      "✅ Forward link has adequate margin (26.95 dB)\n"
     ]
    }
   ],
   "source": [
    "# Display the uplink budget\n",
    "print(\"FORWARD LINK (UPLINK) BUDGET:\")\n",
    "print(uplink)\n",
    "\n",
    "# Show specific parameters\n",
    "print(f\"\\nLink Details:\")\n",
    "print(f\"Frequency: {uplink.frequency.to('MHz'):.2f}\")\n",
    "print(f\"Distance: {distance.to('km'):.2f}\")\n",
    "print(f\"Bandwidth: {uplink.bandwidth.to('kHz'):.2f}\")\n",
    "print(f\"\\nGround Station TX:\")\n",
    "print(f\"Transmit Power: {uplink.tx_power.to('dBW'):.2f} dBW\")\n",
    "print(f\"Dish Diameter: {gs_antenna.diameter.to('m'):.2f}\")\n",
    "print(f\"Antenna Gain: {gs_antenna.gain(uplink.frequency):.2f} dB\")\n",
    "print(f\"\\nSatellite RX:\")\n",
    "print(f\"Antenna Gain: {uplink.rx_antenna.gain(uplink.frequency):.2f} dB\")\n",
    "print(f\"System Noise Temperature: {uplink.system_noise_temperature.to('K'):.2f}\")\n",
    "\n",
    "# Check if the link has sufficient margin\n",
    "if uplink.margin > 3.0:\n",
    "    print(f\"\\n✅ Forward link has adequate margin ({uplink.margin:.2f} dB)\")\n",
    "else:\n",
    "    print(f\"\\n❌ Forward link may have insufficient margin ({uplink.margin:.2f} dB)\")"
   ]
  },
  {
   "cell_type": "markdown",
   "metadata": {},
   "source": [
    "## Define Return Link (Downlink) Parameters\n",
    "\n",
    "Now let's define the parameters specific to the downlink from the satellite to the ground station."
   ]
  },
  {
   "cell_type": "code",
   "execution_count": 6,
   "metadata": {},
   "outputs": [],
   "source": [
    "downlink_mode = Mode(\n",
    "    name=\"BPSK\",\n",
    "    coding_scheme=\"uncoded\",\n",
    "    modulation=\"BPSK\",\n",
    "    bits_per_symbol=Q_(1, dimensionless),\n",
    "    code_rate=1.0,\n",
    "    spectral_efficiency=0.5,\n",
    "    required_ebno=9.6,\n",
    "    implementation_loss=0.5,\n",
    ")\n",
    "# Create the downlink object\n",
    "downlink = Link(\n",
    "    frequency=Q_(2.25, 'GHz'),\n",
    "    symbol_rate=Q_(2, MHz),\n",
    "    tx_antenna=FixedGain(5.0, axial_ratio=3.0),\n",
    "    rx_antenna=gs_antenna,\n",
    "    tx_power=Q_(5.0, 'W'),\n",
    "    tx_front_end=Cascade(),\n",
    "    rx_front_end=Cascade([Stage(label='rx_fe', noise_temp=Q_(100.0, 'K'))]),\n",
    "    rx_antenna_noise_temp=Q_(50.0, 'K'),\n",
    "    distance_fn=distance_function,\n",
    "    mode = downlink_mode\n",
    ")"
   ]
  },
  {
   "cell_type": "markdown",
   "metadata": {},
   "source": [
    "## Analyze Return Link (Downlink) Budget"
   ]
  },
  {
   "cell_type": "code",
   "execution_count": 7,
   "metadata": {},
   "outputs": [
    {
     "name": "stdout",
     "output_type": "stream",
     "text": [
      "RETURN LINK (DOWNLINK) BUDGET:\n",
      "Link Budget:\n",
      "  EIRP: 12.0 dBW\n",
      "  Path Loss: 165.5 dB\n",
      "  Polarization Loss: 0.5 dB\n",
      "  Received Power: -117.1 dBW\n",
      "  System Noise Temperature: 150.0 K\n",
      "  Noise Power: -140.8 dBW\n",
      "  C/N: 23.7 dB\n",
      "  Margin: 13.6 dB\n",
      "\n",
      "Link Details:\n",
      "Frequency: 2250.00 megahertz\n",
      "Distance: 2000.00 kilometer\n"
     ]
    },
    {
     "ename": "AttributeError",
     "evalue": "'Mode' object has no attribute 'bandwidth'",
     "output_type": "error",
     "traceback": [
      "\u001b[0;31m---------------------------------------------------------------------------\u001b[0m",
      "\u001b[0;31mAttributeError\u001b[0m                            Traceback (most recent call last)",
      "Cell \u001b[0;32mIn[7], line 9\u001b[0m\n\u001b[1;32m      7\u001b[0m \u001b[38;5;28mprint\u001b[39m(\u001b[38;5;124mf\u001b[39m\u001b[38;5;124m\"\u001b[39m\u001b[38;5;124mFrequency: \u001b[39m\u001b[38;5;132;01m{\u001b[39;00mdownlink\u001b[38;5;241m.\u001b[39mfrequency\u001b[38;5;241m.\u001b[39mto(\u001b[38;5;124m'\u001b[39m\u001b[38;5;124mMHz\u001b[39m\u001b[38;5;124m'\u001b[39m)\u001b[38;5;132;01m:\u001b[39;00m\u001b[38;5;124m.2f\u001b[39m\u001b[38;5;132;01m}\u001b[39;00m\u001b[38;5;124m\"\u001b[39m)\n\u001b[1;32m      8\u001b[0m \u001b[38;5;28mprint\u001b[39m(\u001b[38;5;124mf\u001b[39m\u001b[38;5;124m\"\u001b[39m\u001b[38;5;124mDistance: \u001b[39m\u001b[38;5;132;01m{\u001b[39;00mdownlink\u001b[38;5;241m.\u001b[39mdistance\u001b[38;5;241m.\u001b[39mto(\u001b[38;5;124m'\u001b[39m\u001b[38;5;124mkm\u001b[39m\u001b[38;5;124m'\u001b[39m)\u001b[38;5;132;01m:\u001b[39;00m\u001b[38;5;124m.2f\u001b[39m\u001b[38;5;132;01m}\u001b[39;00m\u001b[38;5;124m\"\u001b[39m)\n\u001b[0;32m----> 9\u001b[0m \u001b[38;5;28mprint\u001b[39m(\u001b[38;5;124mf\u001b[39m\u001b[38;5;124m\"\u001b[39m\u001b[38;5;124mBandwidth: \u001b[39m\u001b[38;5;132;01m{\u001b[39;00m\u001b[43mdownlink\u001b[49m\u001b[38;5;241;43m.\u001b[39;49m\u001b[43mmode\u001b[49m\u001b[38;5;241;43m.\u001b[39;49m\u001b[43mbandwidth\u001b[49m\u001b[38;5;241m.\u001b[39mto(\u001b[38;5;124m'\u001b[39m\u001b[38;5;124mMHz\u001b[39m\u001b[38;5;124m'\u001b[39m)\u001b[38;5;132;01m:\u001b[39;00m\u001b[38;5;124m.2f\u001b[39m\u001b[38;5;132;01m}\u001b[39;00m\u001b[38;5;124m\"\u001b[39m)\n\u001b[1;32m     10\u001b[0m \u001b[38;5;28mprint\u001b[39m(\u001b[38;5;124mf\u001b[39m\u001b[38;5;124m\"\u001b[39m\u001b[38;5;130;01m\\n\u001b[39;00m\u001b[38;5;124mSatellite TX:\u001b[39m\u001b[38;5;124m\"\u001b[39m)\n\u001b[1;32m     11\u001b[0m \u001b[38;5;28mprint\u001b[39m(\u001b[38;5;124mf\u001b[39m\u001b[38;5;124m\"\u001b[39m\u001b[38;5;124mTransmit Power: \u001b[39m\u001b[38;5;132;01m{\u001b[39;00mdownlink\u001b[38;5;241m.\u001b[39mtx_power\u001b[38;5;241m.\u001b[39mto(\u001b[38;5;124m'\u001b[39m\u001b[38;5;124mdBW\u001b[39m\u001b[38;5;124m'\u001b[39m)\u001b[38;5;132;01m:\u001b[39;00m\u001b[38;5;124m.2f\u001b[39m\u001b[38;5;132;01m}\u001b[39;00m\u001b[38;5;124m dBW\u001b[39m\u001b[38;5;124m\"\u001b[39m)\n",
      "\u001b[0;31mAttributeError\u001b[0m: 'Mode' object has no attribute 'bandwidth'"
     ]
    }
   ],
   "source": [
    "# Display the downlink budget\n",
    "print(\"RETURN LINK (DOWNLINK) BUDGET:\")\n",
    "print(downlink)\n",
    "\n",
    "# Show specific parameters\n",
    "print(f\"\\nLink Details:\")\n",
    "print(f\"Frequency: {downlink.frequency.to('MHz'):.2f}\")\n",
    "print(f\"Distance: {downlink.distance.to('km'):.2f}\")\n",
    "print(f\"Bandwidth: {downlink.bandwidth.to('MHz'):.2f}\")\n",
    "print(f\"\\nSatellite TX:\")\n",
    "print(f\"Transmit Power: {downlink.tx_power.to('dBW'):.2f} dBW\")\n",
    "print(f\"Antenna Gain: {downlink.tx_antenna.gain(downlink.frequency):.2f} dB\")\n",
    "print(f\"\\nGround Station RX:\")\n",
    "print(f\"Dish Diameter: {gs_antenna.diameter.to('m'):.2f}\")\n",
    "print(f\"Antenna Gain: {gs_antenna.gain(downlink.frequency):.2f} dB\")\n",
    "print(f\"System Noise Temperature: {downlink.system_noise_temperature.to('K'):.2f}\")\n",
    "\n",
    "# Check if the link has sufficient margin\n",
    "if downlink.margin > 3.0:\n",
    "    print(f\"\\n✅ Return link has adequate margin ({downlink.margin:.2f} dB)\")\n",
    "else:\n",
    "    print(f\"\\n❌ Return link may have insufficient margin ({downlink.margin:.2f} dB)\")"
   ]
  },
  {
   "cell_type": "markdown",
   "metadata": {},
   "source": [
    "## Link Margin vs. Distance Analysis\n",
    "\n",
    "Let's analyze how the link margin varies with distance for both uplink and downlink."
   ]
  },
  {
   "cell_type": "code",
   "execution_count": null,
   "metadata": {},
   "outputs": [],
   "source": [
    "# Define a range of distances\n",
    "distances = np.linspace(500, 3000, 50)  # km\n",
    "uplink_margins = []\n",
    "downlink_margins = []\n",
    "\n",
    "# Calculate margins at each distance\n",
    "for d in distances:\n",
    "    # Update the distance\n",
    "    distance = Q_(d, 'km')\n",
    "    \n",
    "    # Calculate margins\n",
    "    uplink_margins.append(uplink.margin)\n",
    "    downlink_margins.append(downlink.margin)\n",
    "\n",
    "# Plot the results\n",
    "plt.figure(figsize=(10, 6))\n",
    "plt.plot(distances, uplink_margins, 'b-', label='Forward Link (Uplink)')\n",
    "plt.plot(distances, downlink_margins, 'r-', label='Return Link (Downlink)')\n",
    "plt.grid(True)\n",
    "plt.xlabel('Distance (km)')\n",
    "plt.ylabel('Link Margin (dB)')\n",
    "plt.title('Link Margin vs. Distance')\n",
    "plt.axhline(y=3, color='gray', linestyle='--', label='3 dB Minimum Margin')\n",
    "plt.axvline(x=2000, color='green', linestyle='--', label='Nominal Distance (2000 km)')\n",
    "plt.legend()\n",
    "plt.show()"
   ]
  },
  {
   "cell_type": "markdown",
   "metadata": {},
   "source": [
    "## Conclusion\n",
    "\n",
    "This notebook demonstrated how to use the PyRadio library to analyze both uplink and downlink budgets for a LEO satellite communication system. Key findings include:\n",
    "\n",
    "1. The forward link (uplink) has a substantial margin due to the high-power ground station transmitter and large dish antenna.\n",
    "2. The return link (downlink) has a smaller but still adequate margin even with a much lower transmit power from the satellite.\n",
    "3. The link margin decreases with increasing distance, but both links maintain adequate performance over the expected distance range of the LEO satellite.\n",
    "4. The BER analysis confirms that both links exceed the required Eb/N0 for reliable communications with a BPSK modulation scheme.\n",
    "\n",
    "This analysis provides confidence that the communication system design will meet the requirements for reliable satellite communications."
   ]
  },
  {
   "cell_type": "code",
   "execution_count": null,
   "metadata": {},
   "outputs": [],
   "source": []
  }
 ],
 "metadata": {
  "kernelspec": {
   "display_name": "Python 3 (ipykernel)",
   "language": "python",
   "name": "python3"
  },
  "language_info": {
   "codemirror_mode": {
    "name": "ipython",
    "version": 3
   },
   "file_extension": ".py",
   "mimetype": "text/x-python",
   "name": "python",
   "nbconvert_exporter": "python",
   "pygments_lexer": "ipython3",
   "version": "3.13.3"
  }
 },
 "nbformat": 4,
 "nbformat_minor": 4
}
