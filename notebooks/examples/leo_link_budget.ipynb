{
 "cells": [
  {
   "cell_type": "markdown",
   "metadata": {},
   "source": [
    "# LEO Link Budget\n",
    "\n",
    "Compute forward (ground-to-space) and return (space-to-ground) C/N₀ and link margin for LEO altitudes from 2 000 km down to 500 km.\n"
   ]
  },
  {
   "cell_type": "code",
   "execution_count": null,
   "metadata": {},
   "outputs": [],
   "source": [
    "import astropy.units as u\n",
    "from spacelink.core.noise import noise_power_density\n",
    "from spacelink.core.path import free_space_path_loss\n",
    "from spacelink.core.antenna import dish_gain\n",
    "\n",
    "from uncertainties import ufloat"
   ]
  },
  {
   "cell_type": "code",
   "execution_count": null,
   "metadata": {},
   "outputs": [],
   "source": [
    "distance = 2000 * u.km\n",
    "frequency = 8.4 * u.GHz\n",
    "symbol_rate = 1 * u.MHz\n",
    "\n",
    "tx_power = 10.0 * u.dBW\n",
    "tx_antenna_gain = dish_gain(0.7 * u.m, frequency, 0.65)\n",
    "rx_antenna_gain = -10.0 * u.dB\n",
    "\n",
    "rx_antenna_noise_temp = 50 * u.K\n",
    "rx_system_noise_temp = 100 * u.K\n",
    "total_noise_temp = rx_antenna_noise_temp + rx_system_noise_temp\n",
    "\n",
    "# Parameters for concatenated convolutional r=1/2 + RS 223,255 code\n",
    "required_ebn0 = 2.4 * u.dB\n",
    "coding_rate = (0.5 * 223 / 255) * u.dimensionless\n",
    "bit_rate = symbol_rate * coding_rate\n",
    "\n",
    "eirp = tx_power + tx_antenna_gain\n",
    "\n",
    "print(f\"Transmit Gain: {tx_antenna_gain:0.2f}\")\n",
    "print(f\"Receive Gain: {rx_antenna_gain:0.2f}\")\n",
    "print(f\"EIRP: {eirp:0.2f}\")"
   ]
  },
  {
   "cell_type": "code",
   "execution_count": null,
   "metadata": {},
   "outputs": [],
   "source": [
    "# Note here that the units can be in km, GHz, whatever\n",
    "# They will automatically get converted to fundamental units for the computation\n",
    "path_loss = free_space_path_loss(distance, frequency)\n",
    "rx_power = eirp - path_loss + rx_antenna_gain\n",
    "rx_noise_power_density = noise_power_density(total_noise_temp).to(\"dB(W/Hz)\")\n",
    "cn0 = rx_power - rx_noise_power_density\n",
    "print(f\"C/N0: {cn0:0.2f}\")"
   ]
  },
  {
   "cell_type": "code",
   "execution_count": null,
   "metadata": {},
   "outputs": [],
   "source": [
    "ebn0 = cn0 - to_dB(bit_rate.to(u.Hz))\n",
    "margin = ebn0 - required_ebn0\n",
    "print(f\"Eb/N0: {ebn0:0.2f}\")\n",
    "print(f\"Margin: {margin:0.2f}\")"
   ]
  },
  {
   "cell_type": "code",
   "execution_count": null,
   "metadata": {},
   "outputs": [],
   "source": []
  },
  {
   "cell_type": "code",
   "execution_count": null,
   "metadata": {},
   "outputs": [],
   "source": []
  }
 ],
 "metadata": {
  "kernelspec": {
   "display_name": "Python (spacelink-poetry)",
   "language": "python",
   "name": "spacelink-poetry"
  },
  "language_info": {
   "codemirror_mode": {
    "name": "ipython",
    "version": 3
   },
   "file_extension": ".py",
   "mimetype": "text/x-python",
   "name": "python",
   "nbconvert_exporter": "python",
   "pygments_lexer": "ipython3",
   "version": "3.13.3"
  }
 },
 "nbformat": 4,
 "nbformat_minor": 4
}
