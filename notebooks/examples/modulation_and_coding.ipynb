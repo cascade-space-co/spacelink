{
 "cells": [
  {
   "cell_type": "markdown",
   "metadata": {},
   "source": [
    "# Modulation and Coding Performance\n",
    "\n",
    "SpaceLink includes a registry of modulation and coding combinations. Modes and the\n",
    "associated error rate performance data is stored in a set of YAML files with a simple\n",
    "schema such that new modes can be easily added.\n"
   ]
  },
  {
   "cell_type": "code",
   "execution_count": null,
   "metadata": {},
   "outputs": [],
   "source": [
    "import numpy as np\n",
    "import matplotlib.pyplot as plt\n",
    "import ipywidgets as widgets\n",
    "\n",
    "%matplotlib widget\n",
    "\n",
    "import astropy.units as u\n",
    "from spacelink.phy.registry import Registry\n",
    "from spacelink.phy.performance import ErrorMetric"
   ]
  },
  {
   "cell_type": "markdown",
   "metadata": {},
   "source": [
    "The error rate performance of different modulation and coding options can be compared\n",
    "in this interactive plot."
   ]
  },
  {
   "cell_type": "code",
   "execution_count": null,
   "metadata": {},
   "outputs": [],
   "source": [
    "modcod_registry = Registry()\n",
    "modcod_registry.load()\n",
    "\n",
    "mode_ids = sorted(modcod_registry.modes.keys())\n",
    "\n",
    "ebn0 = np.linspace(-2, 10, 100) * u.dB\n",
    "fig, (ax1, ax2) = plt.subplots(2, 1, sharex=True, figsize=(12, 8))\n",
    "fig.subplots_adjust(right=0.55)\n",
    "\n",
    "\n",
    "@widgets.interact(\n",
    "    modcod_ids=widgets.SelectMultiple(\n",
    "        options=mode_ids,\n",
    "        value=(mode_ids[0],),\n",
    "        description=\"Modes:\",\n",
    "        rows=min(12, len(mode_ids)),\n",
    "        layout=widgets.Layout(width=\"50%\", height=\"150px\"),\n",
    "        style={\"description_width\": \"auto\"},\n",
    "    )\n",
    ")\n",
    "def plot_modcods(modcod_ids):\n",
    "    ax1.clear()\n",
    "    ax2.clear()\n",
    "\n",
    "    colors = plt.rcParams[\"axes.prop_cycle\"].by_key()[\"color\"]\n",
    "\n",
    "    for idx, mode_id in enumerate(modcod_ids):\n",
    "        color = colors[idx % len(colors)]\n",
    "        try:\n",
    "            modcod_ber_perf = modcod_registry.get_performance(mode_id, ErrorMetric.BER)\n",
    "        except KeyError:\n",
    "            continue\n",
    "        ber = modcod_ber_perf.ebno_to_error_rate(ebn0)\n",
    "        ax1.semilogy(ebn0, ber, label=mode_id, color=color)\n",
    "\n",
    "        try:\n",
    "            modcod_wer_perf = modcod_registry.get_performance(mode_id, ErrorMetric.WER)\n",
    "            wer = modcod_wer_perf.ebno_to_error_rate(ebn0)\n",
    "            ax2.semilogy(ebn0, wer, label=mode_id, color=color)\n",
    "        except KeyError:\n",
    "            pass\n",
    "\n",
    "    ax1.set_ylabel(\"Bit Error Rate\")\n",
    "    ax1.grid(True)\n",
    "    ax2.set_xlabel(\"$E_b/N_0$ (dB)\")\n",
    "    ax2.set_ylabel(\"Codeword Error Rate\")\n",
    "    ax2.grid(True)\n",
    "\n",
    "    if len(modcod_ids) > 0:\n",
    "        handles, labels = ax1.get_legend_handles_labels()\n",
    "        ax1.legend(\n",
    "            handles,\n",
    "            labels,\n",
    "            loc=\"upper left\",\n",
    "            bbox_to_anchor=(1.02, 1.0),\n",
    "            borderaxespad=0.0,\n",
    "            title=\"Modes\",\n",
    "            frameon=True,\n",
    "        )"
   ]
  }
 ],
 "metadata": {
  "kernelspec": {
   "display_name": "spacelink-F8xmamVO-py3.12",
   "language": "python",
   "name": "python3"
  },
  "language_info": {
   "codemirror_mode": {
    "name": "ipython",
    "version": 3
   },
   "file_extension": ".py",
   "mimetype": "text/x-python",
   "name": "python",
   "nbconvert_exporter": "python",
   "pygments_lexer": "ipython3",
   "version": "3.12.3"
  }
 },
 "nbformat": 4,
 "nbformat_minor": 4
}
