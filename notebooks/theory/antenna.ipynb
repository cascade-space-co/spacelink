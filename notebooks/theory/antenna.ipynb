{
 "cells": [
  {
   "cell_type": "markdown",
   "metadata": {},
   "source": [
    "# Antenna Calculations in SpaceLink\n",
    "\n",
    "This notebook demonstrates the antenna capabilities available in the SpaceLink library."
   ]
  },
  {
   "cell_type": "code",
   "execution_count": 1,
   "metadata": {},
   "outputs": [],
   "source": [
    "import numpy as np\n",
    "import matplotlib.pyplot as plt\n",
    "from ipywidgets import interact, FloatSlider, Dropdown\n",
    "\n",
    "%matplotlib widget\n",
    "\n",
    "import astropy.units as u\n",
    "from spacelink.core import antenna\n",
    "from spacelink.core.units import to_linear"
   ]
  },
  {
   "cell_type": "markdown",
   "metadata": {},
   "source": [
    "First up we have the gain of a parabolic dish antenna."
   ]
  },
  {
   "cell_type": "code",
   "execution_count": 2,
   "metadata": {},
   "outputs": [
    {
     "name": "stdout",
     "output_type": "stream",
     "text": [
      "The gain of a 3.7 m dish at 2.25 GHz is 36.9 dB\n"
     ]
    }
   ],
   "source": [
    "frequency = 2.25 * u.GHz\n",
    "dish_diameter = 3.7 * u.m\n",
    "radiation_efficiency = 0.65 * u.dimensionless\n",
    "gain = antenna.dish_gain(dish_diameter, frequency, radiation_efficiency)\n",
    "print(f\"The gain of a {dish_diameter:0.1f} dish at {frequency:0.2f} is {gain:0.1f}\")"
   ]
  },
  {
   "cell_type": "markdown",
   "metadata": {},
   "source": [
    "Next we can calculate the loss resulting from axial ratio mismatch between two antennas\n",
    "assuming worst-case orientations of the polarization ellipses (90° apart)."
   ]
  },
  {
   "cell_type": "code",
   "execution_count": 5,
   "metadata": {},
   "outputs": [
    {
     "name": "stdout",
     "output_type": "stream",
     "text": [
      "Polarization loss for 3.00 dB dB axial ratio: 0.51 dB\n"
     ]
    }
   ],
   "source": [
    "axial_ratio = 3.0 * u.dB\n",
    "polarization_loss = antenna.polarization_loss(axial_ratio, axial_ratio)\n",
    "print(\n",
    "    f\"Polarization loss for {axial_ratio:.2f} dB axial ratio: {polarization_loss:.2f}\"\n",
    ")"
   ]
  },
  {
   "cell_type": "markdown",
   "metadata": {},
   "source": [
    "Below is a visualization of the polarization ellipse associated with an antenna \n",
    "radiation pattern in \n",
    "[spherical coordinates](https://en.wikipedia.org/wiki/Spherical_coordinate_system), \n",
    "where $\\theta$ is the polar angle and $\\phi$ is the azimuthal angle. The polarization \n",
    "ellipse is shown in a plane tangent to the sphere known as the _local tangent plane_. \n",
    "The direction of propagation is out of the screen. \n",
    "\n",
    "\n",
    "Polarization is here parameterized by\n",
    "* Tilt angle of the major axis with respect to $\\hat{\\theta}$,\n",
    "* Axial ratio, which is the ratio of the major and minor axes of the ellipse, and\n",
    "* Handedness, which determines the direction of the E-field rotation."
   ]
  },
  {
   "cell_type": "code",
   "execution_count": null,
   "metadata": {},
   "outputs": [],
   "source": [
    "fig_pol, ax_pol = plt.subplots(figsize=(6, 6))\n",
    "\n",
    "\n",
    "@interact(\n",
    "    tilt_angle=FloatSlider(\n",
    "        value=0,\n",
    "        min=0,\n",
    "        max=360,\n",
    "        step=1,\n",
    "        description=\"Tilt Angle (deg)\",\n",
    "        style={\"description_width\": \"150px\"},\n",
    "        layout={\"width\": \"400px\"},\n",
    "    ),\n",
    "    axial_ratio=FloatSlider(\n",
    "        value=0,\n",
    "        min=0,\n",
    "        max=30,\n",
    "        step=0.1,\n",
    "        description=\"Axial Ratio (dB)\",\n",
    "        style={\"description_width\": \"150px\"},\n",
    "        layout={\"width\": \"400px\"},\n",
    "    ),\n",
    "    rotation_sense=Dropdown(\n",
    "        options=[\n",
    "            (\"Left\", antenna.Handedness.LEFT),\n",
    "            (\"Right\", antenna.Handedness.RIGHT),\n",
    "        ],\n",
    "        value=antenna.Handedness.RIGHT,\n",
    "        description=\"Rotation Sense\",\n",
    "        style={\"description_width\": \"150px\"},\n",
    "        layout={\"width\": \"400px\"},\n",
    "    ),\n",
    ")\n",
    "def plot_polarization_ellipse(tilt_angle, axial_ratio, rotation_sense):\n",
    "\n",
    "    polarization = antenna.Polarization(\n",
    "        tilt_angle * u.deg, to_linear(axial_ratio * u.dB), rotation_sense\n",
    "    )\n",
    "    jones = polarization.jones_vector\n",
    "\n",
    "    t = np.linspace(0, 2 * np.pi, 100)\n",
    "    ellipse = np.real(jones[:, np.newaxis] * np.exp(1j * t))\n",
    "\n",
    "    ax_pol.clear()\n",
    "    ax_pol.plot(ellipse[1, :], ellipse[0, :], linewidth=2)\n",
    "    ax_pol.set_xlim(-1.2, 1.2)\n",
    "    ax_pol.set_ylim(-1.2, 1.2)\n",
    "    ax_pol.set_aspect(\"equal\")\n",
    "    ax_pol.set_xlabel(r\"$\\hat{\\phi}$\")\n",
    "    ax_pol.set_ylabel(r\"$\\hat{\\theta}$\")\n",
    "    ax_pol.set_title(\"Polarization Ellipse\")\n",
    "    ax_pol.invert_yaxis()\n",
    "    ax_pol.grid(True, alpha=0.3)\n",
    "\n",
    "    # Add arrow to show rotation direction\n",
    "    ax_pol.annotate(\n",
    "        \"\",\n",
    "        xy=(ellipse[1, -1], ellipse[0, -1]),\n",
    "        xytext=(ellipse[1, -2], ellipse[0, -2]),\n",
    "        arrowprops=dict(arrowstyle=\"-|>\", color=\"tab:blue\", lw=2),\n",
    "    )"
   ]
  }
 ],
 "metadata": {
  "kernelspec": {
   "display_name": ".venv",
   "language": "python",
   "name": "python3"
  },
  "language_info": {
   "codemirror_mode": {
    "name": "ipython",
    "version": 3
   },
   "file_extension": ".py",
   "mimetype": "text/x-python",
   "name": "python",
   "nbconvert_exporter": "python",
   "pygments_lexer": "ipython3",
   "version": "3.12.3"
  }
 },
 "nbformat": 4,
 "nbformat_minor": 4
}
