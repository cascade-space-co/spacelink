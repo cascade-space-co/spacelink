{
 "cells": [
  {
   "cell_type": "markdown",
   "metadata": {},
   "source": [
    "# Antenna Module\n",
    "The `Antenna` class is an abstract base class. We derive from this class to get subclasses with distinct functionality, such as a `Dish` class that computes the gain as a function of diameter, or a `FixedGain` class that simply has a fixed gain"
   ]
  },
  {
   "cell_type": "markdown",
   "metadata": {},
   "source": [
    "**Parabolic dish gain**:\n",
    "$$G = \\eta \\left(\\frac{\\pi D}{\\lambda}\\right)^2, \\quad G_{\\mathrm{dB}} = 10\\log_{10}(G),$$\n",
    "where $\\eta$ is efficiency, $D$ is dish diameter, and $\\lambda$ is wavelength."
   ]
  },
  {
   "cell_type": "code",
   "execution_count": null,
   "metadata": {},
   "outputs": [],
   "source": [
    "import astropy.units as u\n",
    "from spacelink.core.antenna import polarization_loss, dish_gain\n",
    "from spacelink.core.units import Dimensionless, Length, Frequency, Decibels\n",
    "from spacelink.components.antenna import Dish, FixedGain\n",
    "\n",
    "dish = Dish(\n",
    "    diameter=10.0 * u.m,\n",
    "    efficiency=0.65 * u.dimensionless,\n",
    "    axial_ratio=3.0 * u.dB,\n",
    "    noise_temperature=50 * u.K,\n",
    "    return_loss=20.0 * u.dB,\n",
    ")\n",
    "\n",
    "frequency = 2.25 * u.GHz\n",
    "print(f\"Gain of a {dish.diameter} dish at {frequency} is {dish.gain(frequency):.2f}\")"
   ]
  },
  {
   "cell_type": "markdown",
   "metadata": {},
   "source": [
    "**Polarization mismatch loss**:\n",
    "\n",
    "Let $\\gamma_T=10^{AR_T/20}$ and $\\gamma_R=10^{AR_R/20}$ be linear axial ratios for transmit and receive.\n",
    "$$-10 \\log_{10} \\left\\{ \\frac{1}{2} + \\frac{1}{2} \\left[ \\frac{4 \\gamma_T \\gamma_R + (1-\\gamma^2_T)(1-\\gamma^2_R)(\\cos 2\\beta)}{(1+\\gamma^2_T)(1+\\gamma^2_R)} \\right] \\right\\}$$\n",
    "\n",
    "(source: https://www.microwaves101.com/encyclopedias/polarization-mismatch-between-antennas)"
   ]
  },
  {
   "cell_type": "code",
   "execution_count": null,
   "metadata": {},
   "outputs": [],
   "source": [
    "print(f\"Circular vs Circular: {polarization_loss(3.0 * u.dB, 3.0 * u.dB):.2f}\")"
   ]
  },
  {
   "cell_type": "code",
   "execution_count": null,
   "metadata": {},
   "outputs": [],
   "source": []
  }
 ],
 "metadata": {
  "kernelspec": {
   "display_name": "Python 3 (ipykernel)",
   "language": "python",
   "name": "python3"
  },
  "language_info": {
   "codemirror_mode": {
    "name": "ipython",
    "version": 3
   },
   "file_extension": ".py",
   "mimetype": "text/x-python",
   "name": "python",
   "nbconvert_exporter": "python",
   "pygments_lexer": "ipython3",
   "version": "3.13.3"
  }
 },
 "nbformat": 4,
 "nbformat_minor": 4
}
