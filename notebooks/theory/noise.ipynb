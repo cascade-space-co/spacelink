{
 "cells": [
  {
   "cell_type": "markdown",
   "metadata": {},
   "source": [
    "# Noise\n",
    "https://www.microwaves101.com/encyclopedias/noise-figure"
   ]
  },
  {
   "cell_type": "code",
   "execution_count": 1,
   "metadata": {},
   "outputs": [
    {
     "name": "stdout",
     "output_type": "stream",
     "text": [
      "Thermal noise power (1 MHz, 290K): -143.9752 dB(W)\n",
      "Thermal noise power (1 Hz, 290K): -173.9752 dB(mW)\n",
      "3 dB NF -> Temp: 288.63 K\n",
      "290 K -> NF: 3.01 dB\n"
     ]
    }
   ],
   "source": [
    "import astropy.units as u\n",
    "from spacelink.core import (\n",
    "    return_loss_to_vswr,\n",
    "    vswr_to_return_loss,\n",
    "    wavelength,\n",
    "    frequency,\n",
    "    mismatch_loss,\n",
    "    to_linear,\n",
    "    to_dB,\n",
    ")\n",
    "import spacelink.core.noise as noise\n",
    "print(f\"Thermal noise power (1 MHz, 290K): {noise.power(1 * u.MHz).to(u.dBW):.4f}\")\n",
    "print(f\"Thermal noise power (1 Hz, 290K): {noise.power(1 * u.Hz).to(u.dBm):.4f}\")\n",
    "print(f\"3 dB NF -> Temp: {noise.noise_figure_to_temperature(3 * u.dB):.2f}\")\n",
    "print(f\"290 K -> NF: {noise.temperature_to_noise_figure(290 * u.K):.2f}\")\n"
   ]
  },
  {
   "cell_type": "code",
   "execution_count": null,
   "metadata": {},
   "outputs": [],
   "source": []
  }
 ],
 "metadata": {
  "kernelspec": {
   "display_name": "Python 3 (ipykernel)",
   "language": "python",
   "name": "python3"
  },
  "language_info": {
   "codemirror_mode": {
    "name": "ipython",
    "version": 3
   },
   "file_extension": ".py",
   "mimetype": "text/x-python",
   "name": "python",
   "nbconvert_exporter": "python",
   "pygments_lexer": "ipython3",
   "version": "3.13.3"
  }
 },
 "nbformat": 4,
 "nbformat_minor": 4
}
