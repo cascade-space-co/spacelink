{
 "cells": [
  {
   "cell_type": "markdown",
   "metadata": {},
   "source": [
    "# Noise\n",
    "https://www.microwaves101.com/encyclopedias/noise-figure"
   ]
  },
  {
   "cell_type": "code",
   "execution_count": null,
   "metadata": {},
   "outputs": [],
   "source": [
    "import astropy.units as u\n",
    "\n",
    "import spacelink.core.noise as noise\n",
    "\n",
    "print(\n",
    "    f\"Thermal noise power (1 MHz, 290K): {noise.noise_power(1 * u.MHz).to(u.dBW):.4f}\"\n",
    ")\n",
    "print(f\"Thermal noise power (1 Hz, 290K): {noise.noise_power(1 * u.Hz).to(u.dBm):.4f}\")\n",
    "print(f\"3 dB NF -> Temp: {noise.noise_figure_to_temperature(3 * u.dB(1)):.2f}\")\n",
    "print(f\"290 K -> NF: {noise.temperature_to_noise_figure(290 * u.K):.2f}\")"
   ]
  }
 ],
 "metadata": {
  "kernelspec": {
   "display_name": "Python 3 (ipykernel)",
   "language": "python",
   "name": "python3"
  },
  "language_info": {
   "mimetype": "text/x-python",
   "name": "python"
  }
 },
 "nbformat": 4,
 "nbformat_minor": 4
}
