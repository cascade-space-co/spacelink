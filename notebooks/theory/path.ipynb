{
 "cells": [
  {
   "cell_type": "markdown",
   "metadata": {},
   "source": [
    "# Free Space Path Loss\n",
    "This library computes free space path loss using the Friis equation. It is instructive to break down the Friis equation into the spherical spreading loss and effective aperture components"
   ]
  },
  {
   "cell_type": "code",
   "execution_count": null,
   "metadata": {},
   "outputs": [],
   "source": [
    "import astropy.units as u\n",
    "\n",
    "import spacelink.core.path as path\n",
    "\n",
    "print(f\"Spreading Loss (1000 km): {path.spreading_loss(1000 * u.km):.2f}\")\n",
    "print(f\"Aperture Loss (10 GHz): {path.aperture_loss(10 * u.GHz):.2f}\")\n",
    "print(\n",
    "    f\"FSPL (1000 km, 10 GHz): {path.free_space_path_loss(1000 * u.km, 10 * u.GHz):.2f}\"\n",
    ")"
   ]
  },
  {
   "cell_type": "code",
   "execution_count": null,
   "metadata": {},
   "outputs": [],
   "source": [
    "import matplotlib.pyplot as plt\n",
    "import numpy as np\n",
    "\n",
    "distances = [100, 1000, 10000, 100000, 384400] * u.km\n",
    "freqs = [1, 2.25, 8.4, 32] * u.GHz\n",
    "\n",
    "print(\"Path Loss Component Values (dB)\")\n",
    "print(\"-\" * 75)\n",
    "print(f\"{'Distance (km)':<15}{'Spreading Loss':<20}\")\n",
    "for d in distances:\n",
    "    sl = path.spreading_loss(d)\n",
    "    print(f\"{d:<15}{sl:<20.2f}\")\n",
    "\n",
    "print(\"\\n\")\n",
    "print(f\"{'Frequency (GHz)':<15}{'Aperture Loss':<20}\")\n",
    "for f in freqs:\n",
    "    al = path.aperture_loss(f)\n",
    "    print(f\"{f:<15}{al:<20.2f}\")\n",
    "\n",
    "print(\"\\n\")\n",
    "print(\"Free Space Path Loss (dB) Table\")\n",
    "print(\"-\" * 75)\n",
    "header = f\"{'Distance (km)':<15}\"\n",
    "for f in freqs:\n",
    "    header += f\"{f} GHz{'':<10}\"\n",
    "print(header)\n",
    "for d in distances:\n",
    "    row = f\"{d:<15}\"\n",
    "    for f in freqs:\n",
    "        loss = path.free_space_path_loss(d, f)\n",
    "        row += f\"{loss:<15.2f}\"\n",
    "    print(row)\n",
    "\n",
    "plt.figure(figsize=(12, 4))\n",
    "plt.subplot(1, 3, 1)\n",
    "dist_range = np.logspace(1, 6, 500)\n",
    "sp_loss = [path.spreading_loss(d * u.km).value for d in dist_range]\n",
    "plt.plot(dist_range, sp_loss)\n",
    "plt.xscale(\"log\")\n",
    "plt.xlabel(\"Distance (km)\")\n",
    "plt.ylabel(\"Spreading Loss (dB)\")\n",
    "plt.title(\"Spreading Loss vs Distance\")\n",
    "plt.grid(True)\n",
    "\n",
    "plt.subplot(1, 3, 2)\n",
    "freq_range = np.logspace(9, 11, 500)\n",
    "ap_loss = [path.aperture_loss(f * u.Hz).value for f in freq_range]\n",
    "plt.plot(freq_range / 1e9, ap_loss)\n",
    "plt.xscale(\"log\")\n",
    "plt.xlabel(\"Frequency (GHz)\")\n",
    "plt.ylabel(\"Aperture Loss (dB)\")\n",
    "plt.title(\"Aperture Loss vs Frequency\")\n",
    "plt.grid(True)\n",
    "\n",
    "plt.subplot(1, 3, 3)\n",
    "dist_range_km = np.logspace(2, 6, 500)\n",
    "for f in freqs:\n",
    "    fspl_values = [path.free_space_path_loss(d * u.km, f).value for d in dist_range_km]\n",
    "    plt.plot(dist_range_km, fspl_values, label=f\"{f} GHz\")\n",
    "plt.xscale(\"log\")\n",
    "plt.xlabel(\"Distance (km)\")\n",
    "plt.ylabel(\"Free Space Path Loss (dB)\")\n",
    "plt.title(\"FSPL vs Distance at Different Frequencies\")\n",
    "plt.legend()\n",
    "plt.grid(True)\n",
    "\n",
    "plt.tight_layout()\n",
    "plt.show()"
   ]
  }
 ],
 "metadata": {
  "kernelspec": {
   "display_name": "spacelink-F8xmamVO-py3.12",
   "language": "python",
   "name": "python3"
  },
  "language_info": {
   "codemirror_mode": {
    "name": "ipython",
    "version": 3
   },
   "file_extension": ".py",
   "mimetype": "text/x-python",
   "name": "python",
   "nbconvert_exporter": "python",
   "pygments_lexer": "ipython3",
   "version": "3.12.3"
  }
 },
 "nbformat": 4,
 "nbformat_minor": 4
}
