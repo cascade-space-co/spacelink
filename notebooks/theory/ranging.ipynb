{
 "cells": [
  {
   "cell_type": "markdown",
   "metadata": {},
   "source": [
    "# Ranging Calculations in SpaceLink\n",
    "\n",
    "This notebook demonstrates the ranging functions available in the SpaceLink library. Ranging is crucial for determining the distance and relative velocity of spacecraft and ground stations."
   ]
  },
  {
   "cell_type": "code",
   "execution_count": null,
   "metadata": {},
   "outputs": [],
   "source": [
    "# Import necessary libraries\n",
    "import numpy as np\n",
    "import matplotlib.pyplot as plt\n",
    "import astropy.units as u\n",
    "import astropy.constants as const\n",
    "\n",
    "# Import ranging functions from SpaceLink\n",
    "# Note: These could be imported directly from spacelink.core if they were added to core/__init__.py\n",
    "from spacelink.core.ranging import (\n",
    "    pn_sequence_range_ambiguity,\n",
    "    chip_snr,\n",
    "    power_fractions_sine,\n",
    "    suppression_factor_sine,\n",
    "    modulation_factor_sine,\n",
    "    suppression_factor_bipolar,\n",
    "    modulation_factor_bipolar,\n",
    ")\n",
    "\n",
    "# Import unit conversion utilities\n",
    "from spacelink.core.units import to_dBHz, Dimensionless\n",
    "\n",
    "# Set plot style\n",
    "plt.style.use(\"ggplot\")\n",
    "plt.rcParams[\"figure.figsize\"] = [12, 8]"
   ]
  },
  {
   "cell_type": "markdown",
   "metadata": {},
   "source": [
    "## PN Sequence Range Ambiguity\n",
    "\n",
    "The range ambiguity is the maximum unambiguous range that can be measured with a given PN sequence. It depends on the sequence length and chip rate."
   ]
  },
  {
   "cell_type": "code",
   "execution_count": null,
   "metadata": {},
   "outputs": [],
   "source": [
    "# Calculate range ambiguity for different chip rates\n",
    "chip_rates = np.logspace(5, 7, 10) * u.Hz  # From 100 kHz to 10 MHz\n",
    "\n",
    "ambiguities = [pn_sequence_range_ambiguity(rate).to(u.km) for rate in chip_rates]\n",
    "\n",
    "plt.figure()\n",
    "plt.loglog(chip_rates.value, [amb.value for amb in ambiguities], \"o-\")\n",
    "plt.xlabel(\"Chip Rate (Hz)\")\n",
    "plt.ylabel(\"Range Ambiguity (km)\")\n",
    "plt.title(f\"Range Ambiguity vs. Chip Rate for Sequence Length = {sequence_length}\")\n",
    "plt.grid(True)\n",
    "plt.show()"
   ]
  },
  {
   "cell_type": "markdown",
   "metadata": {},
   "source": [
    "## Chip SNR Calculation\n",
    "\n",
    "The chip SNR is a critical parameter for ranging performance. It depends on the chip rate and the ranging signal power to noise density ratio (PR/N0)."
   ]
  },
  {
   "cell_type": "code",
   "execution_count": null,
   "metadata": {},
   "outputs": [],
   "source": [
    "# Calculate chip SNR for different PR/N0 values\n",
    "prn0_values = np.arange(30, 70, 5) * u.dBHz  # PR/N0 values from 30 to 65 dBHz\n",
    "chip_rate = 1.0 * u.MHz  # 1 MHz chip rate\n",
    "\n",
    "snr_values = [chip_snr(chip_rate, prn0) for prn0 in prn0_values]\n",
    "\n",
    "plt.figure()\n",
    "plt.plot(prn0_values.value, [snr.value for snr in snr_values], \"o-\")\n",
    "plt.xlabel(\"PR/N0 (dBHz)\")\n",
    "plt.ylabel(\"Chip SNR (dB)\")\n",
    "plt.title(f\"Chip SNR vs. PR/N0 for Chip Rate = {chip_rate}\")\n",
    "plt.grid(True)\n",
    "plt.show()"
   ]
  },
  {
   "cell_type": "markdown",
   "metadata": {},
   "source": [
    "## Power Fractions in Modulated Signals\n",
    "\n",
    "When a carrier is modulated with both ranging and command/data signals, the power is distributed among the carrier, ranging sidebands, and data sidebands. Let's explore how these power fractions vary with modulation indices."
   ]
  },
  {
   "cell_type": "code",
   "execution_count": null,
   "metadata": {},
   "outputs": [],
   "source": [
    "# Calculate power fractions for different ranging modulation indices\n",
    "phi_r_values = np.linspace(0.1, 1.5, 50) * u.dimensionless\n",
    "phi_cmd = 0.5 * u.dimensionless\n",
    "\n",
    "# Calculate power fractions\n",
    "power_fractions = [power_fractions_sine(phi_r, phi_cmd) for phi_r in phi_r_values]\n",
    "Pc_values = [frac[0] for frac in power_fractions]\n",
    "Pr_values = [frac[1] for frac in power_fractions]\n",
    "Pcmd_values = [frac[2] for frac in power_fractions]\n",
    "\n",
    "plt.figure()\n",
    "plt.plot(phi_r_values, Pc_values, \"b-\", label=\"Carrier Power\")\n",
    "plt.plot(phi_r_values, Pr_values, \"r-\", label=\"Ranging Power\")\n",
    "plt.plot(phi_r_values, Pcmd_values, \"g-\", label=\"Command Power\")\n",
    "plt.xlabel(\"Ranging Modulation Index (radians)\")\n",
    "plt.ylabel(\"Power Fraction\")\n",
    "plt.title(\n",
    "    f\"Power Distribution vs. Ranging Modulation Index (Command Index = {phi_cmd} rad)\"\n",
    ")\n",
    "plt.legend()\n",
    "plt.grid(True)\n",
    "plt.show()"
   ]
  },
  {
   "cell_type": "markdown",
   "metadata": {},
   "source": [
    "## Comparing Sine and Bipolar Modulation\n",
    "\n",
    "SpaceLink supports both sine subcarrier and bipolar modulation schemes. Let's compare the suppression and modulation factors for both schemes."
   ]
  },
  {
   "cell_type": "code",
   "execution_count": null,
   "metadata": {},
   "outputs": [],
   "source": [
    "# Compare sine and bipolar modulation\n",
    "mod_idx_values = np.linspace(0.1, 1.5, 100) * u.dimensionless\n",
    "\n",
    "# Calculate suppression and modulation factors\n",
    "sine_supp = [suppression_factor_sine(idx) for idx in mod_idx_values]\n",
    "sine_mod = [modulation_factor_sine(idx) for idx in mod_idx_values]\n",
    "bipolar_supp = [suppression_factor_bipolar(idx) for idx in mod_idx_values]\n",
    "bipolar_mod = [modulation_factor_bipolar(idx) for idx in mod_idx_values]\n",
    "\n",
    "plt.figure()\n",
    "plt.plot(mod_idx_values.value, sine_supp, \"b-\", label=\"Sine Suppression Factor\")\n",
    "plt.plot(mod_idx_values.value, sine_mod, \"b--\", label=\"Sine Modulation Factor\")\n",
    "plt.plot(mod_idx_values.value, bipolar_supp, \"r-\", label=\"Bipolar Suppression Factor\")\n",
    "plt.plot(mod_idx_values.value, bipolar_mod, \"r--\", label=\"Bipolar Modulation Factor\")\n",
    "plt.xlabel(\"Modulation Index (dimensionless)\")\n",
    "plt.ylabel(\"Factor Value\")\n",
    "plt.title(\"Comparison of Sine and Bipolar Modulation\")\n",
    "plt.legend()\n",
    "plt.grid(True)\n",
    "plt.show()"
   ]
  },
  {
   "cell_type": "markdown",
   "metadata": {},
   "source": [
    "## Power Distribution with Sine Modulation\n",
    "\n",
    "Let's examine how power is distributed in a signal with sine modulation for both ranging and data."
   ]
  },
  {
   "cell_type": "code",
   "execution_count": null,
   "metadata": {},
   "outputs": [],
   "source": [
    "# Calculate power fractions with sine modulation\n",
    "mod_idx_r_values = np.linspace(0.1, 1.5, 20) * u.dimensionless\n",
    "mod_idx_data_values = np.linspace(0.1, 1.5, 20) * u.dimensionless\n",
    "\n",
    "# Create meshgrid for 3D plotting\n",
    "R, D = np.meshgrid(mod_idx_r_values.value, mod_idx_data_values.value)\n",
    "carrier_power = np.zeros_like(R)\n",
    "ranging_power = np.zeros_like(R)\n",
    "data_power = np.zeros_like(R)\n",
    "\n",
    "# Calculate power fractions for each combination\n",
    "for i, mod_idx_r in enumerate(mod_idx_r_values):\n",
    "    for j, mod_idx_data in enumerate(mod_idx_data_values):\n",
    "        carrier, ranging, data = power_fractions_sine(mod_idx_r, mod_idx_data)\n",
    "        carrier_power[j, i] = carrier\n",
    "        ranging_power[j, i] = ranging\n",
    "        data_power[j, i] = data\n",
    "\n",
    "# Plot carrier power distribution\n",
    "fig = plt.figure(figsize=(15, 5))\n",
    "\n",
    "ax1 = fig.add_subplot(131, projection=\"3d\")\n",
    "surf1 = ax1.plot_surface(R, D, carrier_power, cmap=\"viridis\")\n",
    "ax1.set_xlabel(\"Ranging Modulation Index\")\n",
    "ax1.set_ylabel(\"Data Modulation Index\")\n",
    "ax1.set_zlabel(\"Carrier Power Fraction\")\n",
    "ax1.set_title(\"Carrier Power\")\n",
    "fig.colorbar(surf1, ax=ax1, shrink=0.5, aspect=5)\n",
    "\n",
    "ax2 = fig.add_subplot(132, projection=\"3d\")\n",
    "surf2 = ax2.plot_surface(R, D, ranging_power, cmap=\"plasma\")\n",
    "ax2.set_xlabel(\"Ranging Modulation Index\")\n",
    "ax2.set_ylabel(\"Data Modulation Index\")\n",
    "ax2.set_zlabel(\"Ranging Power Fraction\")\n",
    "ax2.set_title(\"Ranging Power\")\n",
    "fig.colorbar(surf2, ax=ax2, shrink=0.5, aspect=5)\n",
    "\n",
    "ax3 = fig.add_subplot(133, projection=\"3d\")\n",
    "surf3 = ax3.plot_surface(R, D, data_power, cmap=\"inferno\")\n",
    "ax3.set_xlabel(\"Ranging Modulation Index\")\n",
    "ax3.set_ylabel(\"Data Modulation Index\")\n",
    "ax3.set_zlabel(\"Data Power Fraction\")\n",
    "ax3.set_title(\"Data Power\")\n",
    "fig.colorbar(surf3, ax=ax3, shrink=0.5, aspect=5)\n",
    "\n",
    "plt.tight_layout()\n",
    "plt.show()"
   ]
  },
  {
   "cell_type": "markdown",
   "metadata": {},
   "source": [
    "## Practical Example: CCSDS PN Ranging\n",
    "\n",
    "Let's work through a practical example of a CCSDS PN ranging system."
   ]
  },
  {
   "cell_type": "code",
   "execution_count": null,
   "metadata": {},
   "outputs": [],
   "source": [
    "# CCSDS PN ranging example\n",
    "sequence_length = 1009470  # Standard CCSDS sequence length\n",
    "chip_rate = 1.0 * u.MHz  # 1 MHz chip rate\n",
    "mod_idx_r = 0.8 * u.dimensionless  # Ranging modulation index\n",
    "mod_idx_cmd = 0.5 * u.dimensionless  # Command modulation index\n",
    "prn0 = 50 * u.dBHz  # PR/N0 value\n",
    "\n",
    "# Calculate range ambiguity\n",
    "ambiguity = pn_sequence_range_ambiguity(sequence_length, chip_rate)\n",
    "print(f\"Range ambiguity: {ambiguity.to(u.km):.2f}\")\n",
    "\n",
    "# Calculate chip SNR\n",
    "snr = chip_snr(chip_rate, prn0)\n",
    "print(f\"Chip SNR: {snr:.2f}\")\n",
    "\n",
    "# Calculate power fractions with sine modulation\n",
    "carrier, ranging, data = power_fractions_sine(mod_idx_r, mod_idx_cmd)\n",
    "print(f\"Power fractions (sine modulation):\")\n",
    "print(f\"  Carrier: {carrier:.4f} ({10*np.log10(carrier):.2f} dB)\")\n",
    "print(f\"  Ranging: {ranging:.4f} ({10*np.log10(ranging):.2f} dB)\")\n",
    "print(f\"  Data:    {data:.4f} ({10*np.log10(data):.2f} dB)\")\n",
    "print(f\"  Sum:     {carrier + ranging + data:.4f}\")"
   ]
  }
 ],
 "metadata": {
  "kernelspec": {
   "display_name": "Python 3 (ipykernel)",
   "language": "python",
   "name": "python3"
  },
  "language_info": {
   "codemirror_mode": {
    "name": "ipython",
    "version": 3
   },
   "file_extension": ".py",
   "mimetype": "text/x-python",
   "name": "python",
   "nbconvert_exporter": "python",
   "pygments_lexer": "ipython3",
   "version": "3.13.3"
  }
 },
 "nbformat": 4,
 "nbformat_minor": 4
}
