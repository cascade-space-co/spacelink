{
 "cells": [
  {
   "cell_type": "markdown",
   "metadata": {},
   "source": [
    "# Ranging Calculations in SpaceLink\n",
    "\n",
    "This notebook demonstrates the ranging functions available in the SpaceLink library."
   ]
  },
  {
   "cell_type": "code",
   "execution_count": null,
   "metadata": {},
   "outputs": [],
   "source": [
    "import math\n",
    "import numpy as np\n",
    "import matplotlib.pyplot as plt\n",
    "import astropy.units as u\n",
    "\n",
    "from spacelink.core import ranging\n",
    "\n",
    "# Set default plot style\n",
    "plt.rcParams[\"figure.figsize\"] = [12, 8]"
   ]
  },
  {
   "cell_type": "markdown",
   "metadata": {},
   "source": [
    "## PN Sequence Range Ambiguity\n",
    "\n",
    "The range ambiguity is the maximum unambiguous range that can be measured with a given PN sequence. It depends on the sequence length and chip rate. The CCSDS and DSN ranging sequences all share the same length of exactly 1,009,470 chips, so the chip rate is the main determiner of the ambiguity distance."
   ]
  },
  {
   "cell_type": "code",
   "execution_count": null,
   "metadata": {},
   "outputs": [],
   "source": [
    "chip_rates = np.logspace(5, 7, 100) * u.Hz  # From 100 kHz to 10 MHz\n",
    "range_clock_rates = chip_rates / 2\n",
    "ambiguities = ranging.pn_sequence_range_ambiguity(range_clock_rates)\n",
    "\n",
    "plt.figure(figsize=(8, 5))\n",
    "plt.loglog(chip_rates.to(u.MHz), ambiguities.to(u.km))\n",
    "plt.xlabel(\"Chip Rate (MHz)\")\n",
    "plt.ylabel(\"Range Ambiguity (km)\")\n",
    "plt.title(f\"Range Ambiguity vs. Chip Rate\")\n",
    "plt.grid(True)\n",
    "plt.show()"
   ]
  },
  {
   "cell_type": "markdown",
   "metadata": {},
   "source": [
    "## Chip SNR Calculation\n",
    "\n",
    "The chip SNR determines ranging jitter and acquisition time. It depends on the chip rate and $P_R/N_0$."
   ]
  },
  {
   "cell_type": "code",
   "execution_count": null,
   "metadata": {},
   "outputs": [],
   "source": [
    "prn0_values = np.arange(30, 70, 0.1) * u.dBHz\n",
    "range_clock_rate = 1.0 * u.MHz\n",
    "snr_values = ranging.chip_snr(range_clock_rate, prn0_values)\n",
    "\n",
    "plt.figure(figsize=(8, 5))\n",
    "plt.plot(prn0_values, snr_values)\n",
    "plt.xlabel(\"$P_R/N_0$ (dBHz)\")\n",
    "plt.ylabel(\"Chip SNR (dB)\")\n",
    "plt.title(f\"Chip SNR vs. $P_R/N_0$ for Range Clock Frequency = {range_clock_rate}\")\n",
    "plt.grid(True)\n",
    "plt.show()"
   ]
  },
  {
   "cell_type": "markdown",
   "metadata": {},
   "source": [
    "## Uplink Power Fractions\n",
    "\n",
    "When an uplink carrier is modulated with both ranging and command data signals, the power is distributed among the residual carrier, ranging sidebands, and data sidebands. Let's explore how these power fractions vary with modulation indices.\n",
    "\n",
    "Note that the ranging and data power fractions shown here are the *usable* power fractions in those sidebands, so the three components do not in general sum to 1.\n",
    "\n",
    "First is a plot of the power fractions versus ranging modulation index with the data modulation index held constant."
   ]
  },
  {
   "cell_type": "code",
   "execution_count": null,
   "metadata": {},
   "outputs": [],
   "source": [
    "# Calculate power fractions for different ranging modulation indices\n",
    "ranging_mod_idx = np.linspace(0.0, 1.5, 100) * u.rad\n",
    "data_mod_idx = 1 / math.sqrt(2) * u.rad\n",
    "mod_type = ranging.CommandMod.SINE_SUBCARRIER\n",
    "\n",
    "# Calculate power fractions\n",
    "carrier_power_frac = ranging.uplink_carrier_to_total_power(\n",
    "    ranging_mod_idx, data_mod_idx, mod_type\n",
    ")\n",
    "ranging_power = ranging.uplink_ranging_to_total_power(\n",
    "    ranging_mod_idx, data_mod_idx, mod_type\n",
    ")\n",
    "data_power_frac = ranging.uplink_data_to_total_power(\n",
    "    ranging_mod_idx, data_mod_idx, mod_type\n",
    ")\n",
    "total = carrier_power_frac + ranging_power + data_power_frac\n",
    "\n",
    "plt.figure()\n",
    "plt.plot(ranging_mod_idx, carrier_power_frac, label=\"Residual Carrier Power\")\n",
    "plt.plot(ranging_mod_idx, ranging_power, label=\"Usable Ranging Power\")\n",
    "plt.plot(ranging_mod_idx, data_power_frac, label=\"Usable Data Power\")\n",
    "plt.plot(ranging_mod_idx, total, label=\"Sum\")\n",
    "plt.ylim(0, 1)\n",
    "plt.xlabel(\"Ranging Modulation Index (RMS radians)\")\n",
    "plt.ylabel(\"Power Fraction\")\n",
    "plt.title(\n",
    "    f\"Power Distribution vs. Ranging Modulation Index (Data RMS Mod Index = {data_mod_idx:.3f})\"\n",
    ")\n",
    "plt.legend()\n",
    "plt.grid(True)\n",
    "plt.show()"
   ]
  },
  {
   "cell_type": "markdown",
   "metadata": {},
   "source": [
    "Next are a set of filled contour plots showing how the power fractions change as a function of both data and ranging modulation indices."
   ]
  },
  {
   "cell_type": "code",
   "execution_count": null,
   "metadata": {},
   "outputs": [],
   "source": [
    "mod_type = ranging.CommandMod.SINE_SUBCARRIER\n",
    "mod_idx_vals = np.linspace(0.1, 1.5, 20) * u.rad\n",
    "\n",
    "mod_idx_ranging, mod_idx_data = np.meshgrid(mod_idx_vals, mod_idx_vals)\n",
    "carrier_power = ranging.uplink_carrier_to_total_power(\n",
    "    mod_idx_ranging, mod_idx_data, mod_type\n",
    ")\n",
    "ranging_power = ranging.uplink_ranging_to_total_power(\n",
    "    mod_idx_ranging, mod_idx_data, mod_type\n",
    ")\n",
    "data_power = ranging.uplink_data_to_total_power(mod_idx_ranging, mod_idx_data, mod_type)\n",
    "total_power = carrier_power + ranging_power + data_power\n",
    "\n",
    "# Plot power distributions as 2x2 heatmap grid\n",
    "fig, axes = plt.subplots(2, 2, figsize=(12, 10))\n",
    "\n",
    "# Carrier Power (top-left)\n",
    "im1 = axes[0, 0].contourf(\n",
    "    mod_idx_ranging,\n",
    "    mod_idx_data,\n",
    "    carrier_power,\n",
    "    levels=np.linspace(0, 1, 21),\n",
    "    cmap=\"viridis\",\n",
    "    vmin=0,\n",
    "    vmax=1,\n",
    ")\n",
    "axes[0, 0].set_xlabel(\"Ranging Modulation Index (RMS rad)\")\n",
    "axes[0, 0].set_ylabel(\"Data Modulation Index (RMS rad)\")\n",
    "axes[0, 0].set_title(\"Residual Carrier Power Fraction\")\n",
    "cbar1 = fig.colorbar(im1, ax=axes[0, 0])\n",
    "cbar1.set_ticks(np.linspace(0, 1, 6).tolist())\n",
    "\n",
    "# Ranging Power (top-right)\n",
    "im2 = axes[0, 1].contourf(\n",
    "    mod_idx_ranging,\n",
    "    mod_idx_data,\n",
    "    ranging_power,\n",
    "    levels=np.linspace(0, 1, 21),\n",
    "    cmap=\"viridis\",\n",
    "    vmin=0,\n",
    "    vmax=1,\n",
    ")\n",
    "axes[0, 1].set_xlabel(\"Ranging Modulation Index (RMS rad)\")\n",
    "axes[0, 1].set_ylabel(\"Data Modulation Index (RMS rad)\")\n",
    "axes[0, 1].set_title(\"Usable Ranging Power Fraction\")\n",
    "cbar2 = fig.colorbar(im2, ax=axes[0, 1])\n",
    "cbar2.set_ticks(np.linspace(0, 1, 6).tolist())\n",
    "\n",
    "# Data Power (bottom-left)\n",
    "im3 = axes[1, 0].contourf(\n",
    "    mod_idx_ranging,\n",
    "    mod_idx_data,\n",
    "    data_power,\n",
    "    levels=np.linspace(0, 1, 21),\n",
    "    cmap=\"viridis\",\n",
    "    vmin=0,\n",
    "    vmax=1,\n",
    ")\n",
    "axes[1, 0].set_xlabel(\"Ranging Modulation Index (RMS rad)\")\n",
    "axes[1, 0].set_ylabel(\"Data Modulation Index (RMS rad)\")\n",
    "axes[1, 0].set_title(\"Usable Data Power Fraction\")\n",
    "cbar3 = fig.colorbar(im3, ax=axes[1, 0])\n",
    "cbar3.set_ticks(np.linspace(0, 1, 6).tolist())\n",
    "\n",
    "# Total Power (bottom-right)\n",
    "im4 = axes[1, 1].contourf(\n",
    "    mod_idx_ranging,\n",
    "    mod_idx_data,\n",
    "    total_power,\n",
    "    levels=np.linspace(0, 1, 21),\n",
    "    cmap=\"viridis\",\n",
    "    vmin=0,\n",
    "    vmax=1,\n",
    ")\n",
    "axes[1, 1].set_xlabel(\"Ranging Modulation Index (RMS rad)\")\n",
    "axes[1, 1].set_ylabel(\"Data Modulation Index (RMS rad)\")\n",
    "axes[1, 1].set_title(\"Sum of Usable and Residual Carrier Powers\")\n",
    "cbar4 = fig.colorbar(im4, ax=axes[1, 1])\n",
    "cbar4.set_ticks(np.linspace(0, 1, 6).tolist())\n",
    "\n",
    "plt.tight_layout()\n",
    "plt.show()"
   ]
  }
 ],
 "metadata": {
  "kernelspec": {
   "display_name": "spacelink-F8xmamVO-py3.12",
   "language": "python",
   "name": "python3"
  },
  "language_info": {
   "codemirror_mode": {
    "name": "ipython",
    "version": 3
   },
   "file_extension": ".py",
   "mimetype": "text/x-python",
   "name": "python",
   "nbconvert_exporter": "python",
   "pygments_lexer": "ipython3",
   "version": "3.12.3"
  }
 },
 "nbformat": 4,
 "nbformat_minor": 4
}
