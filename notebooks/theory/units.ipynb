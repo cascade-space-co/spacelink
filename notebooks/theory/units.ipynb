{
 "cells": [
  {
   "cell_type": "markdown",
   "metadata": {},
   "source": [
    "# Units Module\n",
    "\n",
    "This module serves two purposes. One is to provide common imports for all of the Pint units used in the spacelink library, and the other is to provide additional unit conversion functions that are not covered by Pint"
   ]
  },
  {
   "cell_type": "markdown",
   "metadata": {},
   "source": [
    "## Decibels\n",
    "$$P_{\\mathrm{dB}} = 10\\log_{10}(P), \\quad P = 10^{P_{\\mathrm{dB}}/10}.$$\n",
    "## Return Loss & VSWR\n",
    "**Return loss and VSWR**:\n",
    "Return Loss is, well, the return loss in dB. VSWR is the Voltage Standing Wave Ratio, which is kind of a legacy unit but still commonly quoted, especially for antenna inputs. \n",
    "$$RL = -10\\log_{10}|\\Gamma|^2, \\quad VSWR = \\frac{1+|\\Gamma|}{1-|\\Gamma|},$$\n",
    "\n",
    "**Mismatch loss**:\n",
    "Note that the power lost in transmission is the same as the power that was returned. Mismatch losses tend to be small, but in a long cascade they can add up to a significant number.\n",
    "\n",
    "$$L_m = -10\\log_{10}(1 - |\\Gamma|^2).$$\n",
    "\n",
    "## Wavelength\n",
    "$$\\lambda = \\frac{C}{f},$$\n",
    "where $C \\approx 3\\times10^8\\ \\mathrm{m/s}$ (and is the speed of light in a vacuum)\n",
    "\n",
    "\n"
   ]
  },
  {
   "cell_type": "markdown",
   "metadata": {},
   "source": [
    "## Example Calculations"
   ]
  },
  {
   "cell_type": "code",
   "execution_count": 2,
   "metadata": {},
   "outputs": [
    {
     "name": "stdout",
     "output_type": "stream",
     "text": [
      "Wavelength (1 GHz): 0.30 m\n",
      "Frequency (3 m wavelength): 99.93 MHz\n",
      "10 -> dB: 10.0 dB\n",
      "20 dB -> lin: 100.0\n",
      "RL 20 dB -> VSWR: 1.22\n",
      "VSWR 1.2 -> RL: 20.83 dB\n",
      "Mismatch Loss (10 dB RL): 0.46 dB\n"
     ]
    }
   ],
   "source": [
    "import astropy.units as u\n",
    "from spacelink.core.units import (\n",
    "    return_loss_to_vswr,\n",
    "    vswr_to_return_loss,\n",
    "    wavelength,\n",
    "    frequency,\n",
    "    mismatch_loss,\n",
    "    to_linear,\n",
    ")\n",
    "\n",
    "print(f\"Wavelength (1 GHz): {wavelength(1 * u.GHz).to(u.m):.2f}\")\n",
    "print(f\"Frequency (3 m wavelength): {frequency(3 * u.m).to(u.MHz):.2f}\")\n",
    "print(f\"10 -> dB: {10 * u.dB}\")\n",
    "print(f\"20 dB -> lin: {to_linear(20 * u.dB)}\")\n",
    "print(f\"RL 20 dB -> VSWR: {return_loss_to_vswr(20 * u.dB):.2f}\")\n",
    "print(f\"VSWR 1.2 -> RL: {vswr_to_return_loss(1.2 * u.dimensionless):.2f}\")\n",
    "print(f\"Mismatch Loss (10 dB RL): {mismatch_loss(10 * u.dB):.2f}\")"
   ]
  },
  {
   "cell_type": "code",
   "execution_count": null,
   "metadata": {},
   "outputs": [],
   "source": []
  }
 ],
 "metadata": {
  "kernelspec": {
   "display_name": "Python 3 (ipykernel)",
   "language": "python",
   "name": "python3"
  },
  "language_info": {
   "codemirror_mode": {
    "name": "ipython",
    "version": 3
   },
   "file_extension": ".py",
   "mimetype": "text/x-python",
   "name": "python",
   "nbconvert_exporter": "python",
   "pygments_lexer": "ipython3",
   "version": "3.13.3"
  }
 },
 "nbformat": 4,
 "nbformat_minor": 4
}
