{
 "cells": [
  {
   "cell_type": "markdown",
   "metadata": {},
   "source": [
    "# Units Module\n",
    "\n",
    "This module serves two purposes. One is to provide common imports for all of the Pint units used in the spacelink library, and the other is to provide additional unit conversion functions that are not covered by Pint"
   ]
  },
  {
   "cell_type": "markdown",
   "metadata": {},
   "source": [
    "## Example Calculations"
   ]
  },
  {
   "cell_type": "code",
   "execution_count": null,
   "metadata": {},
   "outputs": [],
   "source": [
    "import astropy.units as u\n",
    "from astropy.units import imperial\n",
    "import spacelink.core.units as units"
   ]
  },
  {
   "cell_type": "code",
   "execution_count": null,
   "metadata": {},
   "outputs": [],
   "source": [
    "# Power conversions\n",
    "power = 20.0 * u.W\n",
    "power_dbw = power.to(u.dBW)\n",
    "print(f\"Power (W): {power:0.2f}\")\n",
    "print(f\"Power (dBW): {power_dbw:0.2f}\")\n",
    "\n",
    "linear_power = power.to(u.W)\n",
    "print(f\"Power (W): {linear_power:0.2f}\")\n",
    "print(f\"Power (dBW): {linear_power.to(u.dBW):0.2f}\")"
   ]
  },
  {
   "cell_type": "code",
   "execution_count": null,
   "metadata": {},
   "outputs": [],
   "source": [
    "distance_miles = 10 * imperial.mile\n",
    "print(f\"{distance_miles:0.1f} = {distance_miles.to(u.km):0.1f}\")"
   ]
  },
  {
   "cell_type": "code",
   "execution_count": null,
   "metadata": {},
   "outputs": [],
   "source": [
    "gain = 3.01 * u.dB\n",
    "gain_linear = units.to_linear(gain)\n",
    "print(f\"Linear gain: {gain_linear:0.3f}\")"
   ]
  },
  {
   "cell_type": "code",
   "execution_count": null,
   "metadata": {},
   "outputs": [],
   "source": [
    "print(f\"Wavelength (1 GHz): {units.wavelength(1 * u.GHz).to(u.m):.2f}\")\n",
    "print(f\"Frequency (3 m wavelength): {units.frequency(3 * u.m).to(u.MHz):.2f}\")\n",
    "print(f\"10 -> dB: {10 * u.dB}\")\n",
    "print(f\"20 dB -> lin: {units.to_linear(20 * u.dB)}\")\n",
    "print(f\"RL 20 dB -> VSWR: {units.return_loss_to_vswr(20 * u.dB):.2f}\")\n",
    "print(f\"VSWR 1.2 -> RL: {units.vswr_to_return_loss(1.2 * u.dimensionless):.2f}\")"
   ]
  }
 ],
 "metadata": {
  "kernelspec": {
   "display_name": "Python 3 (ipykernel)",
   "language": "python",
   "name": "python3"
  },
  "language_info": {
   "codemirror_mode": {
    "name": "ipython",
    "version": 3
   },
   "file_extension": ".py",
   "mimetype": "text/x-python",
   "name": "python",
   "nbconvert_exporter": "python",
   "pygments_lexer": "ipython3",
   "version": "3.13.3"
  }
 },
 "nbformat": 4,
 "nbformat_minor": 4
}
